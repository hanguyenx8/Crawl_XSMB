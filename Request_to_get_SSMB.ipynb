{
 "cells": [
  {
   "cell_type": "code",
   "execution_count": 1,
   "metadata": {},
   "outputs": [],
   "source": [
    "import requests\n"
   ]
  },
  {
   "cell_type": "code",
   "execution_count": 11,
   "metadata": {},
   "outputs": [],
   "source": [
    "# tạo một request get\n",
    "req = requests.get('http://xoso888.vn/xsmb-05-01-2023.html', stream=True)\n"
   ]
  },
  {
   "cell_type": "code",
   "execution_count": 4,
   "metadata": {},
   "outputs": [
    {
     "name": "stdout",
     "output_type": "stream",
     "text": [
      "UTF-8\n",
      "200\n"
     ]
    }
   ],
   "source": [
    "# lấy mã hóa của trang web bằng thuộc tính\n",
    "a = req.encoding\n",
    "print(a)\n",
    "b = req.status_code\n",
    "print(b)"
   ]
  },
  {
   "cell_type": "code",
   "execution_count": 5,
   "metadata": {},
   "outputs": [
    {
     "ename": "AttributeError",
     "evalue": "'Response' object has no attribute 'cookie'",
     "output_type": "error",
     "traceback": [
      "\u001b[0;31m---------------------------------------------------------------------------\u001b[0m",
      "\u001b[0;31mAttributeError\u001b[0m                            Traceback (most recent call last)",
      "Cell \u001b[0;32mIn[5], line 2\u001b[0m\n\u001b[1;32m      1\u001b[0m \u001b[39m# truy cập các cookie mà máy chủ đã gửi lại\u001b[39;00m\n\u001b[0;32m----> 2\u001b[0m c \u001b[39m=\u001b[39m req\u001b[39m.\u001b[39;49mcookie\n\u001b[1;32m      3\u001b[0m \u001b[39mprint\u001b[39m(c)\n",
      "\u001b[0;31mAttributeError\u001b[0m: 'Response' object has no attribute 'cookie'"
     ]
    }
   ],
   "source": [
    "# truy cập các cookie mà máy chủ đã gửi lại\n",
    "c = req.cookie\n",
    "print(c)"
   ]
  },
  {
   "cell_type": "code",
   "execution_count": 6,
   "metadata": {},
   "outputs": [
    {
     "name": "stdout",
     "output_type": "stream",
     "text": [
      "{'X-Powered-By': 'PHP/5.6.40', 'Content-Type': 'text/html; charset=UTF-8', 'Transfer-Encoding': 'chunked', 'Content-Encoding': 'gzip', 'Vary': 'Accept-Encoding,User-Agent', 'Date': 'Sun, 05 Feb 2023 14:11:02 GMT', 'Server': 'LiteSpeed', 'Connection': 'Keep-Alive'}\n"
     ]
    }
   ],
   "source": [
    "# Nhận các header phản hồi\n",
    "d = req.headers\n",
    "print(d)"
   ]
  },
  {
   "cell_type": "code",
   "execution_count": 7,
   "metadata": {},
   "outputs": [
    {
     "name": "stdout",
     "output_type": "stream",
     "text": [
      "http://xoso888.vn/xsmb-05-01-2023.html\n"
     ]
    }
   ],
   "source": [
    "# Để xem URL phản hồi sau cùng\n",
    "e = req.url\n",
    "print(e)"
   ]
  },
  {
   "cell_type": "code",
   "execution_count": 13,
   "metadata": {},
   "outputs": [
    {
     "name": "stdout",
     "output_type": "stream",
     "text": [
      "<urllib3.response.HTTPResponse object at 0x7f65862dfee0>\n"
     ]
    }
   ],
   "source": [
    "# truy cập nội dung đã được mã hóa dạng json của phản hồi\n",
    "f = req.raw\n",
    "print(f)"
   ]
  },
  {
   "cell_type": "code",
   "execution_count": null,
   "metadata": {},
   "outputs": [],
   "source": []
  }
 ],
 "metadata": {
  "kernelspec": {
   "display_name": "Python 3",
   "language": "python",
   "name": "python3"
  },
  "language_info": {
   "codemirror_mode": {
    "name": "ipython",
    "version": 3
   },
   "file_extension": ".py",
   "mimetype": "text/x-python",
   "name": "python",
   "nbconvert_exporter": "python",
   "pygments_lexer": "ipython3",
   "version": "3.10.6"
  },
  "orig_nbformat": 4,
  "vscode": {
   "interpreter": {
    "hash": "916dbcbb3f70747c44a77c7bcd40155683ae19c65e1c03b4aa3499c5328201f1"
   }
  }
 },
 "nbformat": 4,
 "nbformat_minor": 2
}
